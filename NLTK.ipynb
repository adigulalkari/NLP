{
 "cells": [
  {
   "cell_type": "code",
   "execution_count": 3,
   "id": "cd0d2dad",
   "metadata": {},
   "outputs": [
    {
     "data": {
      "text/plain": [
       "['Hey',\n",
       " 'Bitch',\n",
       " 'how',\n",
       " 'you',\n",
       " 'doing',\n",
       " '?',\n",
       " 'I',\n",
       " 'will',\n",
       " 'be',\n",
       " 'cumming',\n",
       " 'to',\n",
       " 'your',\n",
       " 'city',\n",
       " '.',\n",
       " 'Wan',\n",
       " 'na',\n",
       " 'cum',\n",
       " '?']"
      ]
     },
     "execution_count": 3,
     "metadata": {},
     "output_type": "execute_result"
    }
   ],
   "source": [
    "from nltk.tokenize import sent_tokenize, word_tokenize\n",
    "\n",
    "text=\"Hey Bitch how you doing? I will be cumming to your city. Wanna cum?\"\n",
    "\n",
    "\n",
    "# Brakes the text in sentences\n",
    "sent_tokenize(text)\n",
    "\n",
    "# Brakes the text in indivual words. Each punctuation is also considered as a diferent word\n",
    "word_tokenize(text)"
   ]
  },
  {
   "cell_type": "code",
   "execution_count": 4,
   "id": "dd87cee8",
   "metadata": {},
   "outputs": [
    {
     "name": "stdout",
     "output_type": "stream",
     "text": [
      "play\n",
      "play\n",
      "increas\n"
     ]
    }
   ],
   "source": [
    "# Stemming with PorterStemmer algorithm\n",
    "from nltk.stem import PorterStemmer\n",
    "\n",
    "stemmer = PorterStemmer()\n",
    "\n",
    "print(stemmer.stem(\"playing\"))\n",
    "print(stemmer.stem(\"played\"))\n",
    "print(stemmer.stem(\"increases\"))"
   ]
  },
  {
   "cell_type": "code",
   "execution_count": 5,
   "id": "a9114a1e",
   "metadata": {},
   "outputs": [
    {
     "name": "stdout",
     "output_type": "stream",
     "text": [
      "increase\n",
      "play\n"
     ]
    }
   ],
   "source": [
    "# Lemmatiziation\n",
    "from nltk.stem import WordNetLemmatizer\n",
    "\n",
    "lemm = WordNetLemmatizer()\n",
    "\n",
    "print(lemm.lemmatize(\"increases\"))\n",
    "print(lemm.lemmatize(\"playing\", pos=\"v\"))"
   ]
  },
  {
   "cell_type": "code",
   "execution_count": 6,
   "id": "ce6e7fa0",
   "metadata": {},
   "outputs": [
    {
     "data": {
      "text/plain": [
       "[('Hey', 'NNP'),\n",
       " ('Bitch', 'NNP'),\n",
       " ('how', 'WRB'),\n",
       " ('you', 'PRP'),\n",
       " ('doing', 'VBG'),\n",
       " ('?', '.'),\n",
       " ('I', 'PRP'),\n",
       " ('will', 'MD'),\n",
       " ('be', 'VB'),\n",
       " ('cumming', 'VBG'),\n",
       " ('to', 'TO'),\n",
       " ('your', 'PRP$'),\n",
       " ('city', 'NN'),\n",
       " ('.', '.'),\n",
       " ('Wan', 'NNP'),\n",
       " ('na', 'TO'),\n",
       " ('cum', 'VB'),\n",
       " ('?', '.')]"
      ]
     },
     "execution_count": 6,
     "metadata": {},
     "output_type": "execute_result"
    }
   ],
   "source": [
    "from nltk import pos_tag\n",
    "\n",
    "text=\"Hey Bitch how you doing? I will be cumming to your city. Wanna cum?\"\n",
    "\n",
    "tokens = word_tokenize(text)\n",
    "pos_tag(tokens)"
   ]
  },
  {
   "cell_type": "code",
   "execution_count": 8,
   "id": "3b11c5ae",
   "metadata": {},
   "outputs": [
    {
     "name": "stdout",
     "output_type": "stream",
     "text": [
      "('Hey', 'Bitch')\n",
      "('Bitch', 'how')\n",
      "('how', 'you')\n",
      "('you', 'doing')\n",
      "('doing', '?')\n",
      "('?', 'I')\n",
      "('I', 'will')\n",
      "('will', 'be')\n",
      "('be', 'cumming')\n",
      "('cumming', 'to')\n",
      "('to', 'your')\n",
      "('your', 'city')\n",
      "('city', '.')\n",
      "('.', 'Wan')\n",
      "('Wan', 'na')\n",
      "('na', 'cum')\n",
      "('cum', '?')\n"
     ]
    }
   ],
   "source": [
    "from nltk import ngrams\n",
    "\n",
    "n=2\n",
    "for gram in ngrams(word_tokenize(text),n):\n",
    "    print(gram)"
   ]
  },
  {
   "cell_type": "code",
   "execution_count": null,
   "id": "f71930d4",
   "metadata": {},
   "outputs": [],
   "source": []
  }
 ],
 "metadata": {
  "kernelspec": {
   "display_name": "Python 3 (ipykernel)",
   "language": "python",
   "name": "python3"
  },
  "language_info": {
   "codemirror_mode": {
    "name": "ipython",
    "version": 3
   },
   "file_extension": ".py",
   "mimetype": "text/x-python",
   "name": "python",
   "nbconvert_exporter": "python",
   "pygments_lexer": "ipython3",
   "version": "3.9.12"
  }
 },
 "nbformat": 4,
 "nbformat_minor": 5
}
