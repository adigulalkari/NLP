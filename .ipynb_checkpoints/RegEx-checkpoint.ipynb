{
 "cells": [
  {
   "cell_type": "code",
   "execution_count": 1,
   "id": "47064c77",
   "metadata": {},
   "outputs": [],
   "source": [
    "import re"
   ]
  },
  {
   "cell_type": "code",
   "execution_count": 15,
   "id": "9be33c40",
   "metadata": {},
   "outputs": [
    {
     "name": "stdout",
     "output_type": "stream",
     "text": [
      "None\n",
      "<re.Match object; span=(10, 13), match='You'>\n",
      "['You', 'You']\n",
      "<callable_iterator object at 0x00000201ADE9F040>\n",
      "10\n",
      "34\n"
     ]
    }
   ],
   "source": [
    "string = \"Hey mama! You are my sugar daddy! You ar gonna be my bitch\"\n",
    "pattern = \"You\"\n",
    "\n",
    "# Gives the match for the first word of the string\n",
    "mo=re.match(pattern,string)\n",
    "print(mo)\n",
    "\n",
    "# Searches for a match in the entire sring. But returns only the first occurance\n",
    "mo=re.search(pattern,string)\n",
    "print(mo)\n",
    "\n",
    "\n",
    "# Returns all occurances. Mostly we'll use this.\n",
    "mo=re.findall(pattern,string)\n",
    "print(mo)\n",
    "\n",
    "\n",
    "# Gives the index of the object\n",
    "m=re.finditer(pattern,string)\n",
    "print(m)\n",
    "for m1 in m:\n",
    "    print(m1.start())"
   ]
  },
  {
   "cell_type": "code",
   "execution_count": 18,
   "id": "1a8d2f50",
   "metadata": {},
   "outputs": [
    {
     "name": "stdout",
     "output_type": "stream",
     "text": [
      "['01-08-2003']\n",
      "Adi was born on Friday. He is the cutest boy ever!\n"
     ]
    }
   ],
   "source": [
    "string = \"Adi was born on 01-08-2003. He is the cutest boy ever!\"\n",
    "\n",
    "# \\d represents numbers\n",
    "pattern = \"\\d{2}-\\d{2}-\\d{4}\"\n",
    "\n",
    "print(re.findall(pattern,string))\n",
    "\n",
    "\n",
    "print(re.sub(pattern, \"Friday\",string))"
   ]
  },
  {
   "cell_type": "code",
   "execution_count": null,
   "id": "33e1d41c",
   "metadata": {},
   "outputs": [],
   "source": []
  }
 ],
 "metadata": {
  "kernelspec": {
   "display_name": "Python 3 (ipykernel)",
   "language": "python",
   "name": "python3"
  },
  "language_info": {
   "codemirror_mode": {
    "name": "ipython",
    "version": 3
   },
   "file_extension": ".py",
   "mimetype": "text/x-python",
   "name": "python",
   "nbconvert_exporter": "python",
   "pygments_lexer": "ipython3",
   "version": "3.9.12"
  }
 },
 "nbformat": 4,
 "nbformat_minor": 5
}
